{
 "cells": [
  {
   "cell_type": "markdown",
   "metadata": {},
   "source": [
    "### Trying Theil-Sen"
   ]
  },
  {
   "cell_type": "code",
   "execution_count": 1,
   "metadata": {},
   "outputs": [],
   "source": [
    "file='/home/denis/pcloud/PB_carlos/SQL/drought_consultas_br_gpp_muni.csv'"
   ]
  },
  {
   "cell_type": "code",
   "execution_count": 2,
   "metadata": {},
   "outputs": [],
   "source": [
    "import pandas as pd"
   ]
  },
  {
   "cell_type": "code",
   "execution_count": 3,
   "metadata": {},
   "outputs": [],
   "source": [
    "gpp = pd.read_csv(file).pivot_table(index=\"acquisition\",\n",
    "                   columns=\"geocodig_m\",\n",
    "                   values=\"mean\")"
   ]
  },
  {
   "cell_type": "code",
   "execution_count": 4,
   "metadata": {},
   "outputs": [
    {
     "data": {
      "text/html": [
       "<div>\n",
       "<style>\n",
       "    .dataframe thead tr:only-child th {\n",
       "        text-align: right;\n",
       "    }\n",
       "\n",
       "    .dataframe thead th {\n",
       "        text-align: left;\n",
       "    }\n",
       "\n",
       "    .dataframe tbody tr th {\n",
       "        vertical-align: top;\n",
       "    }\n",
       "</style>\n",
       "<table border=\"1\" class=\"dataframe\">\n",
       "  <thead>\n",
       "    <tr style=\"text-align: right;\">\n",
       "      <th>geocodig_m</th>\n",
       "      <th>2100055</th>\n",
       "      <th>2100105</th>\n",
       "      <th>2100154</th>\n",
       "      <th>2100204</th>\n",
       "      <th>2100303</th>\n",
       "      <th>2100402</th>\n",
       "      <th>2100436</th>\n",
       "      <th>2100477</th>\n",
       "      <th>2100501</th>\n",
       "      <th>2100550</th>\n",
       "      <th>...</th>\n",
       "      <th>2933109</th>\n",
       "      <th>2933158</th>\n",
       "      <th>2933174</th>\n",
       "      <th>2933208</th>\n",
       "      <th>2933257</th>\n",
       "      <th>2933307</th>\n",
       "      <th>2933406</th>\n",
       "      <th>2933455</th>\n",
       "      <th>2933505</th>\n",
       "      <th>2933604</th>\n",
       "    </tr>\n",
       "    <tr>\n",
       "      <th>acquisition</th>\n",
       "      <th></th>\n",
       "      <th></th>\n",
       "      <th></th>\n",
       "      <th></th>\n",
       "      <th></th>\n",
       "      <th></th>\n",
       "      <th></th>\n",
       "      <th></th>\n",
       "      <th></th>\n",
       "      <th></th>\n",
       "      <th></th>\n",
       "      <th></th>\n",
       "      <th></th>\n",
       "      <th></th>\n",
       "      <th></th>\n",
       "      <th></th>\n",
       "      <th></th>\n",
       "      <th></th>\n",
       "      <th></th>\n",
       "      <th></th>\n",
       "      <th></th>\n",
       "    </tr>\n",
       "  </thead>\n",
       "  <tbody>\n",
       "    <tr>\n",
       "      <th>2002-07-04</th>\n",
       "      <td>623.619832</td>\n",
       "      <td>712.007343</td>\n",
       "      <td>659.526469</td>\n",
       "      <td>628.322112</td>\n",
       "      <td>715.647473</td>\n",
       "      <td>676.897400</td>\n",
       "      <td>731.059168</td>\n",
       "      <td>687.427156</td>\n",
       "      <td>153.676466</td>\n",
       "      <td>604.551091</td>\n",
       "      <td>...</td>\n",
       "      <td>437.252955</td>\n",
       "      <td>256.538398</td>\n",
       "      <td>476.211679</td>\n",
       "      <td>473.362426</td>\n",
       "      <td>420.565293</td>\n",
       "      <td>337.572629</td>\n",
       "      <td>465.152353</td>\n",
       "      <td>137.226114</td>\n",
       "      <td>579.634938</td>\n",
       "      <td>141.556499</td>\n",
       "    </tr>\n",
       "    <tr>\n",
       "      <th>2002-07-12</th>\n",
       "      <td>579.595267</td>\n",
       "      <td>729.132844</td>\n",
       "      <td>606.340896</td>\n",
       "      <td>611.580198</td>\n",
       "      <td>752.098401</td>\n",
       "      <td>700.182916</td>\n",
       "      <td>742.318596</td>\n",
       "      <td>643.244144</td>\n",
       "      <td>152.318737</td>\n",
       "      <td>607.382440</td>\n",
       "      <td>...</td>\n",
       "      <td>500.007092</td>\n",
       "      <td>267.898506</td>\n",
       "      <td>427.837956</td>\n",
       "      <td>443.102071</td>\n",
       "      <td>330.225713</td>\n",
       "      <td>336.551118</td>\n",
       "      <td>497.273529</td>\n",
       "      <td>132.248317</td>\n",
       "      <td>526.964260</td>\n",
       "      <td>133.475723</td>\n",
       "    </tr>\n",
       "    <tr>\n",
       "      <th>2002-07-20</th>\n",
       "      <td>579.869725</td>\n",
       "      <td>639.371829</td>\n",
       "      <td>555.031995</td>\n",
       "      <td>515.031683</td>\n",
       "      <td>684.469738</td>\n",
       "      <td>622.751161</td>\n",
       "      <td>653.302341</td>\n",
       "      <td>620.006178</td>\n",
       "      <td>136.351363</td>\n",
       "      <td>557.612599</td>\n",
       "      <td>...</td>\n",
       "      <td>388.632388</td>\n",
       "      <td>246.532586</td>\n",
       "      <td>376.420438</td>\n",
       "      <td>466.202663</td>\n",
       "      <td>341.544826</td>\n",
       "      <td>339.123053</td>\n",
       "      <td>379.871765</td>\n",
       "      <td>129.278054</td>\n",
       "      <td>343.902991</td>\n",
       "      <td>133.377567</td>\n",
       "    </tr>\n",
       "    <tr>\n",
       "      <th>2002-07-28</th>\n",
       "      <td>535.971155</td>\n",
       "      <td>569.187583</td>\n",
       "      <td>298.303083</td>\n",
       "      <td>343.808581</td>\n",
       "      <td>596.861548</td>\n",
       "      <td>516.162024</td>\n",
       "      <td>508.422627</td>\n",
       "      <td>492.747619</td>\n",
       "      <td>94.947945</td>\n",
       "      <td>249.924613</td>\n",
       "      <td>...</td>\n",
       "      <td>127.277778</td>\n",
       "      <td>215.777293</td>\n",
       "      <td>376.254015</td>\n",
       "      <td>445.707101</td>\n",
       "      <td>440.945806</td>\n",
       "      <td>310.367232</td>\n",
       "      <td>486.704118</td>\n",
       "      <td>87.941964</td>\n",
       "      <td>546.141867</td>\n",
       "      <td>93.531177</td>\n",
       "    </tr>\n",
       "    <tr>\n",
       "      <th>2002-08-05</th>\n",
       "      <td>540.475777</td>\n",
       "      <td>636.289720</td>\n",
       "      <td>510.112275</td>\n",
       "      <td>580.946095</td>\n",
       "      <td>719.769290</td>\n",
       "      <td>569.366295</td>\n",
       "      <td>611.176853</td>\n",
       "      <td>534.068855</td>\n",
       "      <td>101.854093</td>\n",
       "      <td>522.397817</td>\n",
       "      <td>...</td>\n",
       "      <td>328.361702</td>\n",
       "      <td>221.806351</td>\n",
       "      <td>454.816058</td>\n",
       "      <td>501.599112</td>\n",
       "      <td>428.796195</td>\n",
       "      <td>306.276176</td>\n",
       "      <td>451.086471</td>\n",
       "      <td>113.601635</td>\n",
       "      <td>611.279358</td>\n",
       "      <td>128.981437</td>\n",
       "    </tr>\n",
       "  </tbody>\n",
       "</table>\n",
       "<p>5 rows × 1792 columns</p>\n",
       "</div>"
      ],
      "text/plain": [
       "geocodig_m      2100055     2100105     2100154     2100204     2100303  \\\n",
       "acquisition                                                               \n",
       "2002-07-04   623.619832  712.007343  659.526469  628.322112  715.647473   \n",
       "2002-07-12   579.595267  729.132844  606.340896  611.580198  752.098401   \n",
       "2002-07-20   579.869725  639.371829  555.031995  515.031683  684.469738   \n",
       "2002-07-28   535.971155  569.187583  298.303083  343.808581  596.861548   \n",
       "2002-08-05   540.475777  636.289720  510.112275  580.946095  719.769290   \n",
       "\n",
       "geocodig_m      2100402     2100436     2100477     2100501     2100550  \\\n",
       "acquisition                                                               \n",
       "2002-07-04   676.897400  731.059168  687.427156  153.676466  604.551091   \n",
       "2002-07-12   700.182916  742.318596  643.244144  152.318737  607.382440   \n",
       "2002-07-20   622.751161  653.302341  620.006178  136.351363  557.612599   \n",
       "2002-07-28   516.162024  508.422627  492.747619   94.947945  249.924613   \n",
       "2002-08-05   569.366295  611.176853  534.068855  101.854093  522.397817   \n",
       "\n",
       "geocodig_m      ...         2933109     2933158     2933174     2933208  \\\n",
       "acquisition     ...                                                       \n",
       "2002-07-04      ...      437.252955  256.538398  476.211679  473.362426   \n",
       "2002-07-12      ...      500.007092  267.898506  427.837956  443.102071   \n",
       "2002-07-20      ...      388.632388  246.532586  376.420438  466.202663   \n",
       "2002-07-28      ...      127.277778  215.777293  376.254015  445.707101   \n",
       "2002-08-05      ...      328.361702  221.806351  454.816058  501.599112   \n",
       "\n",
       "geocodig_m      2933257     2933307     2933406     2933455     2933505  \\\n",
       "acquisition                                                               \n",
       "2002-07-04   420.565293  337.572629  465.152353  137.226114  579.634938   \n",
       "2002-07-12   330.225713  336.551118  497.273529  132.248317  526.964260   \n",
       "2002-07-20   341.544826  339.123053  379.871765  129.278054  343.902991   \n",
       "2002-07-28   440.945806  310.367232  486.704118   87.941964  546.141867   \n",
       "2002-08-05   428.796195  306.276176  451.086471  113.601635  611.279358   \n",
       "\n",
       "geocodig_m      2933604  \n",
       "acquisition              \n",
       "2002-07-04   141.556499  \n",
       "2002-07-12   133.475723  \n",
       "2002-07-20   133.377567  \n",
       "2002-07-28    93.531177  \n",
       "2002-08-05   128.981437  \n",
       "\n",
       "[5 rows x 1792 columns]"
      ]
     },
     "execution_count": 4,
     "metadata": {},
     "output_type": "execute_result"
    }
   ],
   "source": [
    "gpp.head()"
   ]
  },
  {
   "cell_type": "code",
   "execution_count": 17,
   "metadata": {},
   "outputs": [],
   "source": [
    "from scipy import stats\n",
    "import pylab as plt\n",
    "import numpy as np"
   ]
  },
  {
   "cell_type": "code",
   "execution_count": 37,
   "metadata": {},
   "outputs": [],
   "source": [
    "y = gpp[2933307]\n",
    "res = theilslopes(y)\n",
    "lsq_res = stats.linregress(x, y)\n",
    "x = np.arange(len(y))"
   ]
  },
  {
   "cell_type": "code",
   "execution_count": 38,
   "metadata": {},
   "outputs": [
    {
     "data": {
      "text/plain": [
       "(-0.11327273102764579,\n",
       " 414.53906301630127,\n",
       " -0.14553193371841783,\n",
       " -0.080983975494384158)"
      ]
     },
     "execution_count": 38,
     "metadata": {},
     "output_type": "execute_result"
    }
   ],
   "source": [
    "stats.theilslopes(y, alpha=0.85)"
   ]
  },
  {
   "cell_type": "code",
   "execution_count": 39,
   "metadata": {},
   "outputs": [
    {
     "data": {
      "text/plain": [
       "LinregressResult(slope=-0.095303739554821659, intercept=426.91170672759051, rvalue=-0.15007848762544601, pvalue=9.073603732707308e-05, stderr=0.024201212005751704)"
      ]
     },
     "execution_count": 39,
     "metadata": {},
     "output_type": "execute_result"
    }
   ],
   "source": [
    "stats.linregress(x,y)"
   ]
  },
  {
   "cell_type": "code",
   "execution_count": 40,
   "metadata": {},
   "outputs": [
    {
     "data": {
      "image/png": "[encoded data removed]",
      "text/plain": [
       "<matplotlib.figure.Figure at 0x7f4715f45240>"
      ]
     },
     "metadata": {},
     "output_type": "display_data"
    }
   ],
   "source": [
    "fig = plt.figure(figsize=(12,6))\n",
    "ax = fig.add_subplot(111)\n",
    "ax.plot(x, y, 'b.')\n",
    "ax.plot(x, res[1] + res[0] * x, 'r-', label='Theil-Sen')\n",
    "ax.plot(x, res[1] + res[2] * x, 'r--')\n",
    "ax.plot(x, res[1] + res[3] * x, 'r--')\n",
    "ax.plot(x, lsq_res[1] + lsq_res[0] * x, 'g-', label='Linear Regression')\n",
    "plt.legend()\n",
    "plt.show()"
   ]
  },
  {
   "cell_type": "code",
   "execution_count": null,
   "metadata": {},
   "outputs": [],
   "source": []
  }
 ],
 "metadata": {
  "kernelspec": {
   "display_name": "Python 3",
   "language": "python",
   "name": "python3"
  },
  "language_info": {
   "codemirror_mode": {
    "name": "ipython",
    "version": 3
   },
   "file_extension": ".py",
   "mimetype": "text/x-python",
   "name": "python",
   "nbconvert_exporter": "python",
   "pygments_lexer": "ipython3",
   "version": "3.5.2"
  }
 },
 "nbformat": 4,
 "nbformat_minor": 2
}
