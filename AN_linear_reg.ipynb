{
 "cells": [
  {
   "cell_type": "markdown",
   "metadata": {},
   "source": [
    "### Linear Regression of image time-series? "
   ]
  },
  {
   "cell_type": "code",
   "execution_count": 1,
   "metadata": {
    "collapsed": true
   },
   "outputs": [],
   "source": [
    "import xuleta as xu\n",
    "import numpy as np\n",
    "import pylab as plt\n",
    "import bottleneck as bn\n",
    "from glob import glob\n",
    "import os"
   ]
  },
  {
   "cell_type": "code",
   "execution_count": null,
   "metadata": {
    "collapsed": true
   },
   "outputs": [],
   "source": [
    "lista = glob('/media/denis/seagate/PB/MODIS/myd17a2h/gpp/ymean_regression/y*.tif')"
   ]
  },
  {
   "cell_type": "code",
   "execution_count": null,
   "metadata": {
    "collapsed": true
   },
   "outputs": [],
   "source": [
    "lista"
   ]
  },
  {
   "cell_type": "code",
   "execution_count": null,
   "metadata": {
    "collapsed": true
   },
   "outputs": [],
   "source": [
    "arrays = []\n",
    "for j in lista:\n",
    "    imagem, meta = xu.TifToArray(j)\n",
    "    arrays.append(imagem)\n",
    "    arrays2 = np.dstack(arrays)"
   ]
  },
  {
   "cell_type": "code",
   "execution_count": null,
   "metadata": {
    "collapsed": true
   },
   "outputs": [],
   "source": [
    "arrays2.shape"
   ]
  },
  {
   "cell_type": "code",
   "execution_count": null,
   "metadata": {
    "collapsed": true
   },
   "outputs": [],
   "source": [
    "plt.imshow(arrays2[,][1])\n",
    "plt.show()"
   ]
  },
  {
   "cell_type": "code",
   "execution_count": null,
   "metadata": {
    "collapsed": true
   },
   "outputs": [],
   "source": [
    "import numpy as np\n",
    "n = 1000      # size of my x,y,z dimensions\n",
    "degree = 1   # degree of my polyfit\n",
    "time_len = 5 # number of time samples\n",
    "\n",
    "# Make some data\n",
    "A = np.random.rand(n*n*n*time_len).reshape(n,n,n,time_len)\n",
    "\n",
    "# An x vector to regress through evenly spaced samples\n",
    "X = np.arange( time_len )\n",
    "\n",
    "# A placeholder for the regressions\n",
    "regressions = np.zeros(n*n*n*(degree+1)).reshape(n,n,n,degree+1)\n",
    "\n",
    "# Loop over each index in the array (slow!)\n",
    "for row in range(A.shape[0] ) :\n",
    "    for col in range(A.shape[1] ) :\n",
    "        for slice in range(A.shape[2] ):\n",
    "            fit = np.polyfit( X, A[row,col,slice,:], degree )\n",
    "            regressions[row,col,slice] = fit"
   ]
  },
  {
   "cell_type": "code",
   "execution_count": null,
   "metadata": {
    "collapsed": true
   },
   "outputs": [],
   "source": []
  },
  {
   "cell_type": "code",
   "execution_count": 6,
   "metadata": {
    "collapsed": true
   },
   "outputs": [],
   "source": [
    "y = [4,5,4,6,4,3,7,5,6,4,6,3,2,6,8,9,7,5,3,4,5,6,7,8,9,9,9,8,7,6,5,6,7,8,7,5,3,6,8,9,8,6,7,4,3,7]\n"
   ]
  },
  {
   "cell_type": "code",
   "execution_count": 5,
   "metadata": {},
   "outputs": [
    {
     "data": {
      "text/plain": [
       "46"
      ]
     },
     "execution_count": 5,
     "metadata": {},
     "output_type": "execute_result"
    }
   ],
   "source": [
    "x = [i for i in range(1,47,1)]\n",
    "len(x)"
   ]
  },
  {
   "cell_type": "code",
   "execution_count": 7,
   "metadata": {
    "collapsed": true
   },
   "outputs": [],
   "source": [
    "import pandas as pd"
   ]
  },
  {
   "cell_type": "code",
   "execution_count": 11,
   "metadata": {
    "collapsed": true
   },
   "outputs": [],
   "source": [
    "data = pd.DataFrame(data=y,index=x)"
   ]
  },
  {
   "cell_type": "code",
   "execution_count": 14,
   "metadata": {
    "collapsed": true
   },
   "outputs": [],
   "source": [
    "result = np.polyfit(x,y, 1)"
   ]
  },
  {
   "cell_type": "code",
   "execution_count": 15,
   "metadata": {},
   "outputs": [
    {
     "data": {
      "text/plain": [
       "array([ 0.04353993,  4.93333333])"
      ]
     },
     "execution_count": 15,
     "metadata": {},
     "output_type": "execute_result"
    }
   ],
   "source": [
    "result"
   ]
  },
  {
   "cell_type": "code",
   "execution_count": 16,
   "metadata": {
    "collapsed": true
   },
   "outputs": [],
   "source": [
    "import statsmodels.formula.api as smf"
   ]
  },
  {
   "cell_type": "code",
   "execution_count": 17,
   "metadata": {
    "collapsed": true
   },
   "outputs": [],
   "source": [
    "data2 = pd.read_clipboard()"
   ]
  },
  {
   "cell_type": "code",
   "execution_count": 20,
   "metadata": {},
   "outputs": [
    {
     "data": {
      "text/html": [
       "<div>\n",
       "<table border=\"1\" class=\"dataframe\">\n",
       "  <thead>\n",
       "    <tr style=\"text-align: right;\">\n",
       "      <th></th>\n",
       "      <th>date</th>\n",
       "      <th>IA1</th>\n",
       "      <th>IA2</th>\n",
       "      <th>IA3</th>\n",
       "      <th>IA4</th>\n",
       "      <th>IA5</th>\n",
       "      <th>IA6</th>\n",
       "      <th>IA8</th>\n",
       "      <th>IA9</th>\n",
       "      <th>IL1</th>\n",
       "      <th>...</th>\n",
       "      <th>NE9</th>\n",
       "      <th>SD1</th>\n",
       "      <th>SD2</th>\n",
       "      <th>SD3</th>\n",
       "      <th>SD4</th>\n",
       "      <th>SD5</th>\n",
       "      <th>SD6</th>\n",
       "      <th>SD7</th>\n",
       "      <th>SD8</th>\n",
       "      <th>SD9</th>\n",
       "    </tr>\n",
       "  </thead>\n",
       "  <tbody>\n",
       "    <tr>\n",
       "      <th>0</th>\n",
       "      <td>7/28/02</td>\n",
       "      <td>408.270506</td>\n",
       "      <td>565.710707</td>\n",
       "      <td>527.622746</td>\n",
       "      <td>356.238503</td>\n",
       "      <td>472.521978</td>\n",
       "      <td>408.683983</td>\n",
       "      <td>346.323309</td>\n",
       "      <td>408.805346</td>\n",
       "      <td>289.929381</td>\n",
       "      <td>...</td>\n",
       "      <td>193.363143</td>\n",
       "      <td>66.069810</td>\n",
       "      <td>157.169265</td>\n",
       "      <td>360.400944</td>\n",
       "      <td>90.468471</td>\n",
       "      <td>55.711295</td>\n",
       "      <td>79.550670</td>\n",
       "      <td>242.593555</td>\n",
       "      <td>73.328765</td>\n",
       "      <td>192.843597</td>\n",
       "    </tr>\n",
       "    <tr>\n",
       "      <th>1</th>\n",
       "      <td>8/5/02</td>\n",
       "      <td>508.568018</td>\n",
       "      <td>518.427482</td>\n",
       "      <td>563.579704</td>\n",
       "      <td>411.483450</td>\n",
       "      <td>439.378415</td>\n",
       "      <td>527.607317</td>\n",
       "      <td>326.400309</td>\n",
       "      <td>395.077174</td>\n",
       "      <td>575.195230</td>\n",
       "      <td>...</td>\n",
       "      <td>222.148113</td>\n",
       "      <td>73.218354</td>\n",
       "      <td>157.444817</td>\n",
       "      <td>413.311326</td>\n",
       "      <td>111.493265</td>\n",
       "      <td>66.190853</td>\n",
       "      <td>103.255937</td>\n",
       "      <td>354.514189</td>\n",
       "      <td>106.245028</td>\n",
       "      <td>352.705458</td>\n",
       "    </tr>\n",
       "    <tr>\n",
       "      <th>2</th>\n",
       "      <td>8/13/02</td>\n",
       "      <td>569.162243</td>\n",
       "      <td>634.741967</td>\n",
       "      <td>625.977760</td>\n",
       "      <td>524.580416</td>\n",
       "      <td>558.944500</td>\n",
       "      <td>544.139806</td>\n",
       "      <td>424.342189</td>\n",
       "      <td>449.572569</td>\n",
       "      <td>562.450558</td>\n",
       "      <td>...</td>\n",
       "      <td>330.924277</td>\n",
       "      <td>99.825827</td>\n",
       "      <td>239.274795</td>\n",
       "      <td>471.104081</td>\n",
       "      <td>133.115080</td>\n",
       "      <td>89.989104</td>\n",
       "      <td>176.488186</td>\n",
       "      <td>414.049798</td>\n",
       "      <td>155.822564</td>\n",
       "      <td>402.023451</td>\n",
       "    </tr>\n",
       "    <tr>\n",
       "      <th>3</th>\n",
       "      <td>8/21/02</td>\n",
       "      <td>404.261331</td>\n",
       "      <td>427.317647</td>\n",
       "      <td>448.399267</td>\n",
       "      <td>436.768906</td>\n",
       "      <td>455.483793</td>\n",
       "      <td>451.642622</td>\n",
       "      <td>380.632042</td>\n",
       "      <td>372.502217</td>\n",
       "      <td>470.371773</td>\n",
       "      <td>...</td>\n",
       "      <td>262.958663</td>\n",
       "      <td>90.116702</td>\n",
       "      <td>192.481585</td>\n",
       "      <td>392.428777</td>\n",
       "      <td>134.622554</td>\n",
       "      <td>91.301228</td>\n",
       "      <td>142.535859</td>\n",
       "      <td>306.328084</td>\n",
       "      <td>133.596342</td>\n",
       "      <td>323.530835</td>\n",
       "    </tr>\n",
       "    <tr>\n",
       "      <th>4</th>\n",
       "      <td>8/29/02</td>\n",
       "      <td>360.724294</td>\n",
       "      <td>443.475529</td>\n",
       "      <td>531.842484</td>\n",
       "      <td>354.282799</td>\n",
       "      <td>415.412226</td>\n",
       "      <td>499.090710</td>\n",
       "      <td>358.146538</td>\n",
       "      <td>407.117030</td>\n",
       "      <td>523.422217</td>\n",
       "      <td>...</td>\n",
       "      <td>236.563617</td>\n",
       "      <td>67.833991</td>\n",
       "      <td>200.514598</td>\n",
       "      <td>339.282793</td>\n",
       "      <td>94.888206</td>\n",
       "      <td>74.397132</td>\n",
       "      <td>155.874737</td>\n",
       "      <td>305.236618</td>\n",
       "      <td>147.876781</td>\n",
       "      <td>309.726146</td>\n",
       "    </tr>\n",
       "  </tbody>\n",
       "</table>\n",
       "<p>5 rows × 33 columns</p>\n",
       "</div>"
      ],
      "text/plain": [
       "      date         IA1         IA2         IA3         IA4         IA5  \\\n",
       "0  7/28/02  408.270506  565.710707  527.622746  356.238503  472.521978   \n",
       "1   8/5/02  508.568018  518.427482  563.579704  411.483450  439.378415   \n",
       "2  8/13/02  569.162243  634.741967  625.977760  524.580416  558.944500   \n",
       "3  8/21/02  404.261331  427.317647  448.399267  436.768906  455.483793   \n",
       "4  8/29/02  360.724294  443.475529  531.842484  354.282799  415.412226   \n",
       "\n",
       "          IA6         IA8         IA9         IL1     ...             NE9  \\\n",
       "0  408.683983  346.323309  408.805346  289.929381     ...      193.363143   \n",
       "1  527.607317  326.400309  395.077174  575.195230     ...      222.148113   \n",
       "2  544.139806  424.342189  449.572569  562.450558     ...      330.924277   \n",
       "3  451.642622  380.632042  372.502217  470.371773     ...      262.958663   \n",
       "4  499.090710  358.146538  407.117030  523.422217     ...      236.563617   \n",
       "\n",
       "         SD1         SD2         SD3         SD4        SD5         SD6  \\\n",
       "0  66.069810  157.169265  360.400944   90.468471  55.711295   79.550670   \n",
       "1  73.218354  157.444817  413.311326  111.493265  66.190853  103.255937   \n",
       "2  99.825827  239.274795  471.104081  133.115080  89.989104  176.488186   \n",
       "3  90.116702  192.481585  392.428777  134.622554  91.301228  142.535859   \n",
       "4  67.833991  200.514598  339.282793   94.888206  74.397132  155.874737   \n",
       "\n",
       "          SD7         SD8         SD9  \n",
       "0  242.593555   73.328765  192.843597  \n",
       "1  354.514189  106.245028  352.705458  \n",
       "2  414.049798  155.822564  402.023451  \n",
       "3  306.328084  133.596342  323.530835  \n",
       "4  305.236618  147.876781  309.726146  \n",
       "\n",
       "[5 rows x 33 columns]"
      ]
     },
     "execution_count": 20,
     "metadata": {},
     "output_type": "execute_result"
    }
   ],
   "source": [
    "data2.head()"
   ]
  },
  {
   "cell_type": "code",
   "execution_count": 24,
   "metadata": {
    "collapsed": true
   },
   "outputs": [],
   "source": [
    "reg = smf.ols('IA1 ~ data2.index',data2).fit().params"
   ]
  },
  {
   "cell_type": "code",
   "execution_count": 25,
   "metadata": {},
   "outputs": [
    {
     "data": {
      "text/plain": [
       "Intercept      163.211560\n",
       "data2.index      0.039965\n",
       "dtype: float64"
      ]
     },
     "execution_count": 25,
     "metadata": {},
     "output_type": "execute_result"
    }
   ],
   "source": [
    "reg"
   ]
  },
  {
   "cell_type": "code",
   "execution_count": 26,
   "metadata": {},
   "outputs": [
    {
     "ename": "ImportError",
     "evalue": "The pandas.io.data module is moved to a separate package (pandas-datareader). After installing the pandas-datareader package (https://github.com/pandas-dev/pandas-datareader), you can change the import ``from pandas.io import data, wb`` to ``from pandas_datareader import data, wb``.",
     "output_type": "error",
     "traceback": [
      "\u001b[0;31m---------------------------------------------------------------------------\u001b[0m",
      "\u001b[0;31mImportError\u001b[0m                               Traceback (most recent call last)",
      "\u001b[0;32m<ipython-input-26-3a337875e0e4>\u001b[0m in \u001b[0;36m<module>\u001b[0;34m()\u001b[0m\n\u001b[1;32m      1\u001b[0m \u001b[0;31m# get some data\u001b[0m\u001b[0;34m\u001b[0m\u001b[0;34m\u001b[0m\u001b[0m\n\u001b[0;32m----> 2\u001b[0;31m \u001b[0;32mimport\u001b[0m \u001b[0mpandas\u001b[0m\u001b[0;34m.\u001b[0m\u001b[0mio\u001b[0m\u001b[0;34m.\u001b[0m\u001b[0mdata\u001b[0m \u001b[0;32mas\u001b[0m \u001b[0mweb\u001b[0m\u001b[0;34m\u001b[0m\u001b[0m\n\u001b[0m\u001b[1;32m      3\u001b[0m \u001b[0;32mimport\u001b[0m \u001b[0mdatetime\u001b[0m\u001b[0;34m\u001b[0m\u001b[0m\n\u001b[1;32m      4\u001b[0m \u001b[0mstart\u001b[0m \u001b[0;34m=\u001b[0m \u001b[0mdatetime\u001b[0m\u001b[0;34m.\u001b[0m\u001b[0mdatetime\u001b[0m\u001b[0;34m(\u001b[0m\u001b[0;36m2015\u001b[0m\u001b[0;34m,\u001b[0m \u001b[0;36m1\u001b[0m\u001b[0;34m,\u001b[0m \u001b[0;36m1\u001b[0m\u001b[0;34m)\u001b[0m\u001b[0;34m\u001b[0m\u001b[0m\n\u001b[1;32m      5\u001b[0m \u001b[0mend\u001b[0m \u001b[0;34m=\u001b[0m \u001b[0mdatetime\u001b[0m\u001b[0;34m.\u001b[0m\u001b[0mdatetime\u001b[0m\u001b[0;34m(\u001b[0m\u001b[0;36m2015\u001b[0m\u001b[0;34m,\u001b[0m \u001b[0;36m4\u001b[0m\u001b[0;34m,\u001b[0m \u001b[0;36m30\u001b[0m\u001b[0;34m)\u001b[0m\u001b[0;34m\u001b[0m\u001b[0m\n",
      "\u001b[0;32m/Users/denismariano/miniconda3/lib/python3.6/site-packages/pandas/io/data.py\u001b[0m in \u001b[0;36m<module>\u001b[0;34m()\u001b[0m\n\u001b[1;32m      1\u001b[0m raise ImportError(\n\u001b[0;32m----> 2\u001b[0;31m     \u001b[0;34m\"The pandas.io.data module is moved to a separate package \"\u001b[0m\u001b[0;34m\u001b[0m\u001b[0m\n\u001b[0m\u001b[1;32m      3\u001b[0m     \u001b[0;34m\"(pandas-datareader). After installing the pandas-datareader package \"\u001b[0m\u001b[0;34m\u001b[0m\u001b[0m\n\u001b[1;32m      4\u001b[0m     \u001b[0;34m\"(https://github.com/pandas-dev/pandas-datareader), you can change \"\u001b[0m\u001b[0;34m\u001b[0m\u001b[0m\n\u001b[1;32m      5\u001b[0m     \u001b[0;34m\"the import ``from pandas.io import data, wb`` to \"\u001b[0m\u001b[0;34m\u001b[0m\u001b[0m\n",
      "\u001b[0;31mImportError\u001b[0m: The pandas.io.data module is moved to a separate package (pandas-datareader). After installing the pandas-datareader package (https://github.com/pandas-dev/pandas-datareader), you can change the import ``from pandas.io import data, wb`` to ``from pandas_datareader import data, wb``."
     ]
    }
   ],
   "source": [
    "# get some data\n",
    "import pandas.io.data as web\n",
    "import datetime\n",
    "start = datetime.datetime(2015, 1, 1)\n",
    "end = datetime.datetime(2015, 4, 30)\n",
    "df=web.DataReader(\"F\", 'yahoo', start, end)\n",
    "\n",
    "# a bit of munging - better column name - Day as integer \n",
    "df = df.rename(columns={'Adj Close':'AdjClose'})\n",
    "dayZero = df.index[0]\n",
    "df['Day'] = (df.index - dayZero).days\n",
    "\n",
    "# fit a linear regression\n",
    "import statsmodels.formula.api as sm\n",
    "fit = sm.ols(formula=\"AdjClose ~ Day\", data=df).fit()\n",
    "print(fit.summary())\n",
    "predict = fit.predict(df)\n",
    "df['fitted'] = predict\n",
    "\n",
    "# plot\n",
    "import matplotlib.pyplot as plt\n",
    "fig, ax = plt.subplots(figsize=(8,4))\n",
    "ax.scatter(df.index, df.AdjClose)\n",
    "ax.plot(df.index, df.fitted, 'r')\n",
    "ax.set_ylabel('$')\n",
    "fig.suptitle('Yahoo')\n",
    "\n",
    "plt.show()"
   ]
  },
  {
   "cell_type": "code",
   "execution_count": null,
   "metadata": {
    "collapsed": true
   },
   "outputs": [],
   "source": []
  }
 ],
 "metadata": {
  "kernelspec": {
   "display_name": "Python 3",
   "language": "python",
   "name": "python3"
  },
  "language_info": {
   "codemirror_mode": {
    "name": "ipython",
    "version": 3
   },
   "file_extension": ".py",
   "mimetype": "text/x-python",
   "name": "python",
   "nbconvert_exporter": "python",
   "pygments_lexer": "ipython3",
   "version": "3.5.2"
  }
 },
 "nbformat": 4,
 "nbformat_minor": 2
}
