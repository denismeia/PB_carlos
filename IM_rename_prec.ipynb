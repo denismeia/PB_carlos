{
 "cells": [
  {
   "cell_type": "code",
   "execution_count": 1,
   "metadata": {
    "collapsed": true
   },
   "outputs": [],
   "source": [
    "f = '/media/denis/seagate/prec_chirps/chirps/americas_prec_monthly/'"
   ]
  },
  {
   "cell_type": "code",
   "execution_count": 2,
   "metadata": {
    "collapsed": true
   },
   "outputs": [],
   "source": [
    "from glob import glob\n",
    "import os, xuleta"
   ]
  },
  {
   "cell_type": "code",
   "execution_count": null,
   "metadata": {},
   "outputs": [
    {
     "name": "stdout",
     "output_type": "stream",
     "text": [
      "type download folder:  /home/denis/Downloads/\n",
      "type m for monthly or d for decad:  m\n",
      "type: z, a or p for z-scores, anomalies or precipitation data:  p\n",
      "First year:  2002\n",
      "Last year:  2016\n",
      "downloading 2002\n",
      "downloading 2003\n",
      "downloading 2004\n",
      "downloading 2005\n",
      "downloading 2006\n",
      "downloading 2007\n",
      "downloading 2008\n",
      "downloading 2009\n",
      "downloading 2010\n",
      "downloading 2011\n",
      "downloading 2012\n",
      "downloading 2013\n"
     ]
    }
   ],
   "source": [
    "xuleta.dwlchirps()"
   ]
  },
  {
   "cell_type": "code",
   "execution_count": 5,
   "metadata": {
    "collapsed": true
   },
   "outputs": [],
   "source": [
    "os.chdir(f)"
   ]
  },
  {
   "cell_type": "code",
   "execution_count": 37,
   "metadata": {
    "collapsed": true
   },
   "outputs": [],
   "source": [
    "l = glob('*.tif')"
   ]
  },
  {
   "cell_type": "code",
   "execution_count": 40,
   "metadata": {},
   "outputs": [
    {
     "name": "stdout",
     "output_type": "stream",
     "text": [
      "2000-01-25.tif\n",
      "2000-02-25.tif\n",
      "2000-03-25.tif\n",
      "2000-04-25.tif\n",
      "2000-05-25.tif\n",
      "2000-06-25.tif\n",
      "2000-07-25.tif\n",
      "2000-08-25.tif\n",
      "2000-09-25.tif\n",
      "2000-10-25.tif\n",
      "2000-11-25.tif\n",
      "2000-12-25.tif\n",
      "2001-01-25.tif\n",
      "2001-02-25.tif\n",
      "2001-03-25.tif\n",
      "2001-04-25.tif\n",
      "2001-05-25.tif\n"
     ]
    }
   ],
   "source": [
    "for i in l:\n",
    "    #print(i[1:5]+'-'+i[6:8]+'-25.tif')\n",
    "    os.rename(i,i[1:5]+'-'+i[6:8]+'-25.tif')"
   ]
  },
  {
   "cell_type": "code",
   "execution_count": null,
   "metadata": {
    "collapsed": true
   },
   "outputs": [],
   "source": [
    "import xuleta"
   ]
  },
  {
   "cell_type": "code",
   "execution_count": null,
   "metadata": {
    "collapsed": true
   },
   "outputs": [],
   "source": [
    "xuleta.renamedate(f,oldf='%Y.%m',newf='%Y-%m-%d')"
   ]
  },
  {
   "cell_type": "code",
   "execution_count": null,
   "metadata": {
    "collapsed": true
   },
   "outputs": [],
   "source": [
    "!mv *.tif "
   ]
  }
 ],
 "metadata": {
  "kernelspec": {
   "display_name": "Python 3",
   "language": "python",
   "name": "python3"
  },
  "language_info": {
   "codemirror_mode": {
    "name": "ipython",
    "version": 3
   },
   "file_extension": ".py",
   "mimetype": "text/x-python",
   "name": "python",
   "nbconvert_exporter": "python",
   "pygments_lexer": "ipython3",
   "version": "3.5.2"
  }
 },
 "nbformat": 4,
 "nbformat_minor": 2
}
