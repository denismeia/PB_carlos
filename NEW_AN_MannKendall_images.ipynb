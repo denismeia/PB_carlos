{
 "cells": [
  {
   "cell_type": "code",
   "execution_count": 1,
   "metadata": {
    "collapsed": true
   },
   "outputs": [],
   "source": [
    "import sys,os\n",
    "#sys.path.append(\"/home/wardlow/denis/mypy\")\n",
    "import xuleta as xu\n",
    "from scipy.stats import *\n",
    "import pylab as plt\n",
    "from scipy import interpolate\n",
    "from glob import glob\n",
    "import numpy as np\n",
    "%matplotlib inline\n"
   ]
  },
  {
   "cell_type": "code",
   "execution_count": 2,
   "metadata": {
    "collapsed": true
   },
   "outputs": [],
   "source": [
    "shape = \"/media/denis/seagate/PB/wet_seasons.shp\"\n",
    "fout = \"/media/denis/seagate/PBv2/outputs/\"\n",
    "\n",
    "#list\n",
    "wets = [\"'FMAM'\",\"'AMJJ'\",\"'DJFM'\",\"'JFMA'\",\"'NDJF'\"]\n",
    "season = [['02','03','04','05'],\n",
    "         ['04','05','06','07'],\n",
    "         ['12','01','02','03'],\n",
    "         ['01','02','03','04'],\n",
    "         ['11','12','01','02']]"
   ]
  },
  {
   "cell_type": "code",
   "execution_count": 5,
   "metadata": {
    "collapsed": true
   },
   "outputs": [],
   "source": [
    "def mk_images(folder,name,full=True):\n",
    "    for wet,months in zip(wets,season):\n",
    "        \n",
    "        if full==True:\n",
    "            lista = [x for x in sorted(glob(folder+\"/*.tif\")) if x[-6:-4] in months]\n",
    "        else:\n",
    "            lista = [x for x in sorted(glob(folder+\"/*.tif\")) if x[-6:-4] in months and x[-11:-7] in [str(y) for y in range(2002,2012)]]\n",
    "        print(len(lista))\n",
    "\n",
    "        #creating mask\n",
    "        os.system('gdalwarp -cutline %s -cwhere \"WET = %s\" -co COMPRESS=DEFLATE -co PREDICTOR=1 -co ZLEVEL=9 -dstnodata -9999 %s %smask%s.tif' %(shape,wet,lista[0],fout,wet[1:-1]))\n",
    "        mask,mm = xu.TifToArray(fout+'mask'+wet[1:-1]+\".tif\")\n",
    "        mask = np.where(mask!=-9999,1,0)\n",
    "        print('Mask %s created' %wet)\n",
    "\n",
    "        # reading files\n",
    "        arrays = []\n",
    "        for i in lista:\n",
    "            a,m = xu.TifToArray(i)\n",
    "            arrays.append(a)\n",
    "        arrays3 = np.asarray(arrays)\n",
    "        arrays3 = np.reshape(arrays3,(arrays3.shape[0],arrays3.shape[1]*arrays3.shape[2]))\n",
    "        maskrs = np.reshape(mask,(1,arrays3.shape[1]))\n",
    "        print(arrays3.shape)\n",
    "\n",
    "        #Running masked Theil-Sen\n",
    "        x = np.arange(len(lista))\n",
    "\n",
    "        # creating matrices for outputs\n",
    "        zslope = np.zeros(arrays3.shape[1])\n",
    "        pvalue = np.zeros(arrays3.shape[1])\n",
    "        \n",
    "        print('Running Mann-Kendall! Go home!')\n",
    "        for i in range(arrays3.shape[1]): #range(1,2000000,1)range(arrays3.shape[1])\n",
    "            #apply mask\n",
    "            if maskrs[:,i] == 1:\n",
    "                ts_results = xu.mk_test(interpolate(arrays3[:,i]),alpha=0.05)\n",
    "                zslope[i] = ts_results[2]\n",
    "                pvalue[i] = ts_results[1]\n",
    "                #lo_slope[i] = ts_results[2]\n",
    "                #up_slope[i] = ts_results[3]\n",
    "                ts_results = None\n",
    "            else:\n",
    "                zslope[i] = np.nan\n",
    "                pvalue[i] = np.nan\n",
    "               \n",
    "        zslope = zslope.reshape(a.shape[0],a.shape[1])\n",
    "        pvalue = pvalue.reshape(a.shape[0],a.shape[1])\n",
    "       \n",
    "        #SAVE RESULTS\n",
    "        xu.ArrayToTif(zslope,name+\"_zslope\"+wet[1:-1]+\".tif\",fout+'mann-kendall/',m,Type=3)\n",
    "        xu.ArrayToTif(pvalue,name+\"_pvalue\"+wet[1:-1]+\".tif\",fout+'mann-kendall/',m,Type=3)\n",
    "\n",
    "        print('%s saved' %wet)\n",
    "\n",
    "        #os.remove(fout+'mask'+wet[1:-1]+\".tif\")\n",
    "        if os.path.exists(fout+'mask.tif'): os.remove(fout+'mask.tif')"
   ]
  },
  {
   "cell_type": "code",
   "execution_count": 6,
   "metadata": {},
   "outputs": [
    {
     "name": "stdout",
     "output_type": "stream",
     "text": [
      "36\n",
      "Mask 'FMAM' created\n",
      "(36, 13984056)\n",
      "Running Mann-Kendall! Go home!\n"
     ]
    },
    {
     "ename": "TypeError",
     "evalue": "'module' object is not callable",
     "output_type": "error",
     "traceback": [
      "\u001b[0;31m---------------------------------------------------------------------------\u001b[0m",
      "\u001b[0;31mTypeError\u001b[0m                                 Traceback (most recent call last)",
      "\u001b[0;32m<ipython-input-6-c3c2463dd87e>\u001b[0m in \u001b[0;36m<module>\u001b[0;34m()\u001b[0m\n\u001b[1;32m      1\u001b[0m \u001b[0mname\u001b[0m \u001b[0;34m=\u001b[0m \u001b[0;34m'lai_full'\u001b[0m\u001b[0;34m\u001b[0m\u001b[0m\n\u001b[1;32m      2\u001b[0m \u001b[0mfolder\u001b[0m \u001b[0;34m=\u001b[0m \u001b[0;34m\"/media/denis/seagate/PBv2/mcd15a2h/raw/filt_2/anomalies/monthly_mean\"\u001b[0m\u001b[0;34m\u001b[0m\u001b[0m\n\u001b[0;32m----> 3\u001b[0;31m \u001b[0mmk_images\u001b[0m\u001b[0;34m(\u001b[0m\u001b[0mfolder\u001b[0m\u001b[0;34m=\u001b[0m\u001b[0mfolder\u001b[0m\u001b[0;34m,\u001b[0m\u001b[0mname\u001b[0m\u001b[0;34m=\u001b[0m\u001b[0mname\u001b[0m\u001b[0;34m,\u001b[0m\u001b[0mfull\u001b[0m\u001b[0;34m=\u001b[0m\u001b[0;32mFalse\u001b[0m\u001b[0;34m)\u001b[0m\u001b[0;34m\u001b[0m\u001b[0m\n\u001b[0m",
      "\u001b[0;32m<ipython-input-5-f46b59499aaf>\u001b[0m in \u001b[0;36mmk_images\u001b[0;34m(folder, name, full)\u001b[0m\n\u001b[1;32m     35\u001b[0m             \u001b[0;31m#apply mask\u001b[0m\u001b[0;34m\u001b[0m\u001b[0;34m\u001b[0m\u001b[0m\n\u001b[1;32m     36\u001b[0m             \u001b[0;32mif\u001b[0m \u001b[0mmaskrs\u001b[0m\u001b[0;34m[\u001b[0m\u001b[0;34m:\u001b[0m\u001b[0;34m,\u001b[0m\u001b[0mi\u001b[0m\u001b[0;34m]\u001b[0m \u001b[0;34m==\u001b[0m \u001b[0;36m1\u001b[0m\u001b[0;34m:\u001b[0m\u001b[0;34m\u001b[0m\u001b[0m\n\u001b[0;32m---> 37\u001b[0;31m                 \u001b[0mts_results\u001b[0m \u001b[0;34m=\u001b[0m \u001b[0mxu\u001b[0m\u001b[0;34m.\u001b[0m\u001b[0mmk_test\u001b[0m\u001b[0;34m(\u001b[0m\u001b[0minterpolate\u001b[0m\u001b[0;34m(\u001b[0m\u001b[0marrays3\u001b[0m\u001b[0;34m[\u001b[0m\u001b[0;34m:\u001b[0m\u001b[0;34m,\u001b[0m\u001b[0mi\u001b[0m\u001b[0;34m]\u001b[0m\u001b[0;34m)\u001b[0m\u001b[0;34m,\u001b[0m\u001b[0malpha\u001b[0m\u001b[0;34m=\u001b[0m\u001b[0;36m0.05\u001b[0m\u001b[0;34m)\u001b[0m\u001b[0;34m\u001b[0m\u001b[0m\n\u001b[0m\u001b[1;32m     38\u001b[0m                 \u001b[0mzslope\u001b[0m\u001b[0;34m[\u001b[0m\u001b[0mi\u001b[0m\u001b[0;34m]\u001b[0m \u001b[0;34m=\u001b[0m \u001b[0mts_results\u001b[0m\u001b[0;34m[\u001b[0m\u001b[0;36m2\u001b[0m\u001b[0;34m]\u001b[0m\u001b[0;34m\u001b[0m\u001b[0m\n\u001b[1;32m     39\u001b[0m                 \u001b[0mpvalue\u001b[0m\u001b[0;34m[\u001b[0m\u001b[0mi\u001b[0m\u001b[0;34m]\u001b[0m \u001b[0;34m=\u001b[0m \u001b[0mts_results\u001b[0m\u001b[0;34m[\u001b[0m\u001b[0;36m1\u001b[0m\u001b[0;34m]\u001b[0m\u001b[0;34m\u001b[0m\u001b[0m\n",
      "\u001b[0;31mTypeError\u001b[0m: 'module' object is not callable"
     ]
    }
   ],
   "source": [
    "name = 'lai_full'\n",
    "folder = \"/media/denis/seagate/PBv2/mcd15a2h/raw/filt_2/anomalies/monthly_mean\"\n",
    "mk_images(folder=folder,name=name,full=False)"
   ]
  },
  {
   "cell_type": "code",
   "execution_count": null,
   "metadata": {
    "collapsed": true
   },
   "outputs": [],
   "source": []
  }
 ],
 "metadata": {
  "kernelspec": {
   "display_name": "Python 3",
   "language": "python",
   "name": "python3"
  },
  "language_info": {
   "codemirror_mode": {
    "name": "ipython",
    "version": 3
   },
   "file_extension": ".py",
   "mimetype": "text/x-python",
   "name": "python",
   "nbconvert_exporter": "python",
   "pygments_lexer": "ipython3",
   "version": "3.5.2"
  }
 },
 "nbformat": 4,
 "nbformat_minor": 2
}
