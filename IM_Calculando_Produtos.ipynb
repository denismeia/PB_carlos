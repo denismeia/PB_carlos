{
 "cells": [
  {
   "cell_type": "code",
   "execution_count": null,
   "metadata": {
    "collapsed": true
   },
   "outputs": [],
   "source": [
    "import xuleta as xu\n",
    "import numpy as np\n",
    "import pylab as plt\n",
    "import bottleneck as bn\n",
    "from glob import glob\n",
    "import os"
   ]
  },
  {
   "cell_type": "markdown",
   "metadata": {},
   "source": [
    "### MONTHLY MEANS\n",
    "Because no-data values screw up cummulative sums"
   ]
  },
  {
   "cell_type": "code",
   "execution_count": null,
   "metadata": {
    "collapsed": true
   },
   "outputs": [],
   "source": [
    "folder = \"/media/denis/seagate/ESI_2017/brasil_04gf/\"\n",
    "tipo = 'Float32'\n",
    "dictipo = {'Float32':3, 'Int16':1}"
   ]
  },
  {
   "cell_type": "code",
   "execution_count": null,
   "metadata": {
    "collapsed": true
   },
   "outputs": [],
   "source": [
    "if not os.path.exists(folder+\"monthly_mean\"):\n",
    "    os.makedirs(folder+\"monthly_mean\")\n",
    "    \n",
    "folderout = folder+\"monthly_mean/\""
   ]
  },
  {
   "cell_type": "code",
   "execution_count": null,
   "metadata": {
    "collapsed": true
   },
   "outputs": [],
   "source": [
    "l = sorted(glob(folder+\"*.tif\"))\n",
    "l2 = []\n",
    "for i in l:\n",
    "    l2.append(i.split(\"/\")[-1][:-7])\n",
    "l2 = [ii for n,ii in enumerate(l2) if ii not in l2[:n]]"
   ]
  },
  {
   "cell_type": "code",
   "execution_count": null,
   "metadata": {},
   "outputs": [],
   "source": [
    "for i in l2:\n",
    "    toOpen = []\n",
    "    for j in l:\n",
    "        if i == str(j.split(\"/\")[-1][0:7]):\n",
    "            toOpen.append(j)\n",
    "    print(toOpen)\n",
    "    \n",
    "    arrays = []\n",
    "    for k in toOpen:\n",
    "        imagem, meta = xu.TifToArray(k)\n",
    "        imagem = np.where(imagem == -9999, np.nan, imagem)\n",
    "        arrays.append(imagem)\n",
    "        arrays2 = np.dstack(arrays)\n",
    "    xu.ArrayToTif(np.nanmean(arrays2, axis=2), i+'.tif', folderout, meta, Type=dictipo[tipo])  \n",
    "    arrays, media, toOpen, arrays2 = None, None, None, None  "
   ]
  },
  {
   "cell_type": "code",
   "execution_count": null,
   "metadata": {
    "collapsed": true
   },
   "outputs": [],
   "source": [
    "os.chdir(folderout)\n",
    "os.system(\"for f in *.tif; do gdalwarp -overwrite  -ot Float32 -co COMPRESS=DEFLATE -co PREDICTOR=1 -co ZLEVEL=9 -multi -dstnodata -9999 -of GTiff $f comp$f; done\")\n",
    "xu.findreplace(folder=folderout,find=\"comp\",replace=\"\")"
   ]
  },
  {
   "cell_type": "code",
   "execution_count": null,
   "metadata": {
    "collapsed": true
   },
   "outputs": [],
   "source": [
    "\n",
    "xu.findreplace(\"/media/denis/seagate/PB/MODIS/mcd43a3/monthly_mean/\",find=\"mean\",replace=\"\")"
   ]
  },
  {
   "cell_type": "markdown",
   "metadata": {},
   "source": [
    "### PERIOD MEAN\n",
    "To calculate the mean for wet, dry and whatever season"
   ]
  },
  {
   "cell_type": "code",
   "execution_count": null,
   "metadata": {
    "collapsed": true
   },
   "outputs": [],
   "source": [
    "folder = \"/media/denis/seagate/PB/MODIS/myd17a2h/gpp/monthly_mean/\"\n",
    "tipo = 'Int16'\n",
    "dictipo = {'Float32':3, 'Int16':1}"
   ]
  },
  {
   "cell_type": "code",
   "execution_count": null,
   "metadata": {
    "collapsed": true
   },
   "outputs": [],
   "source": [
    "#SOMA ANUAL\n",
    "for y in years:\n",
    "    \n",
    "    toOpen = []\n",
    "    for i in l:\n",
    "        #print(i.split(\"/\")[-1][0:4]+y)\n",
    "        if y == str(i.split(\"/\")[-1][0:4]):\n",
    "            toOpen.append(i)\n",
    "            print(i.split(\"/\")[-1]+\"__\"+y)\n",
    "    \n",
    "    arrays = []\n",
    "    for j in toOpen:\n",
    "        imagem, meta = xu.TifToArray(j)\n",
    "        \n",
    "        arrays.append(imagem)\n",
    "        arrays2 = np.dstack(arrays)\n",
    "    xu.ArrayToTif(np.nanmean(arrays, axis=2), 'sum'+y+'.tif', folderout, meta, Type=1)    "
   ]
  },
  {
   "cell_type": "code",
   "execution_count": null,
   "metadata": {},
   "outputs": [],
   "source": [
    "os.chdir(folderout)\n",
    "os.system('for f in ym*.tif; do gdalwarp -ot Int16  -dstnodata 0 -r near -of GTiff -co COMPRESS=DEFLATE -co PREDICTOR=2 -co ZLEVEL=9 -wo OPTIMIZE_SIZE=TRUE $f year$f; done')\n",
    "os.system('rm ym*.tif')"
   ]
  },
  {
   "cell_type": "markdown",
   "metadata": {},
   "source": [
    "### YEARLY data"
   ]
  },
  {
   "cell_type": "code",
   "execution_count": null,
   "metadata": {
    "collapsed": true
   },
   "outputs": [],
   "source": [
    "l = sorted(glob(folderout+\"*.tif\"))\n",
    "l[0].split(\"/\")[-1][5:9]"
   ]
  },
  {
   "cell_type": "code",
   "execution_count": null,
   "metadata": {
    "collapsed": true
   },
   "outputs": [],
   "source": [
    "#media ANUAL (agora sim, sem os nodata)\n",
    "for y in years:\n",
    "    \n",
    "    toOpen = []\n",
    "    for i in l:\n",
    "        #print(i.split(\"/\")[-1][0:4]+y)\n",
    "        if y == str(i.split(\"/\")[-1][5:9]):\n",
    "            toOpen.append(i)\n",
    "            print(i.split(\"/\")[-1]+\"__\"+y)\n",
    "    \n",
    "    arrays = []\n",
    "    for j in toOpen:\n",
    "        imagem, meta = xu.TifToArray(j)\n",
    "        \n",
    "        arrays.append(imagem)\n",
    "        arrays2 = np.dstack(arrays)\n",
    "    \n",
    "    xu.ArrayToTif(np.nanmean(arrays2, axis=2), 'ymean'+y+'.tif', folderout, meta, Type=1) "
   ]
  }
 ],
 "metadata": {
  "kernelspec": {
   "display_name": "Python 3",
   "language": "python",
   "name": "python3"
  },
  "language_info": {
   "codemirror_mode": {
    "name": "ipython",
    "version": 3
   },
   "file_extension": ".py",
   "mimetype": "text/x-python",
   "name": "python",
   "nbconvert_exporter": "python",
   "pygments_lexer": "ipython3",
   "version": "3.5.2"
  }
 },
 "nbformat": 4,
 "nbformat_minor": 2
}
